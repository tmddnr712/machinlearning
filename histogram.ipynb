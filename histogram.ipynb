{
 "cells": [
  {
   "cell_type": "code",
   "execution_count": 5,
   "metadata": {},
   "outputs": [
    {
     "data": {
      "image/png": "[encoded data removed]",
      "text/plain": [
       "<Figure size 432x288 with 1 Axes>"
      ]
     },
     "metadata": {
      "needs_background": "light"
     },
     "output_type": "display_data"
    }
   ],
   "source": [
    "import matplotlib.pyplot as plt\n",
    "\n",
    "import numpy as np\n",
    "\n",
    "\n",
    "\n",
    "# 입력 데이터\n",
    "\n",
    "num = 30\n",
    "\n",
    "X = np.arange(num)\n",
    "\n",
    "W = np.random.randint(1, num*2, num)\n",
    "\n",
    "\n",
    "\n",
    "# plot 입력\n",
    "\n",
    "hist = plt.hist(X, bins=num, weights=W, density=False, cumulative=False, label='A',\n",
    "\n",
    "                range=(X.min(), X.max()), color='r', edgecolor='black', linewidth=1.2)\n",
    "\n",
    "\n",
    "\n",
    "# 그래프의 타이틀과 x,y축 라벨링\n",
    "\n",
    "plt.title('scatter', pad=10)\n",
    "\n",
    "plt.xlabel('X axis', labelpad=10)\n",
    "\n",
    "plt.ylabel('Y axis', labelpad=10)\n",
    "\n",
    "\n",
    "\n",
    "# 틱설정\n",
    "\n",
    "plt.minorticks_on()\n",
    "\n",
    "plt.tick_params(axis='both', which='both', direction='in', pad=8, top=True, right=True)\n",
    "\n",
    "\n",
    "\n",
    "# 플롯 출력\n",
    "\n",
    "plt.show()"
   ]
  },
  {
   "cell_type": "code",
   "execution_count": null,
   "metadata": {},
   "outputs": [],
   "source": []
  }
 ],
 "metadata": {
  "kernelspec": {
   "display_name": "Python 3",
   "language": "python",
   "name": "python3"
  },
  "language_info": {
   "codemirror_mode": {
    "name": "ipython",
    "version": 3
   },
   "file_extension": ".py",
   "mimetype": "text/x-python",
   "name": "python",
   "nbconvert_exporter": "python",
   "pygments_lexer": "ipython3",
   "version": "3.7.8"
  }
 },
 "nbformat": 4,
 "nbformat_minor": 4
}
