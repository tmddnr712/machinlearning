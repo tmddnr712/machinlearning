{
 "cells": [
  {
   "cell_type": "code",
   "execution_count": 1,
   "metadata": {},
   "outputs": [],
   "source": [
    "import pandas as pd\n",
    "\n",
    "mushrooms = pd.read_csv(\"mushroom.csv\")\n",
    "#print(mushrooms.shape)\n",
    "#print(mushrooms.head())"
   ]
  },
  {
   "cell_type": "code",
   "execution_count": 2,
   "metadata": {},
   "outputs": [],
   "source": [
    "# edible=e, poisonous=p\n",
    "# class의 e = 식용가능, p = 식용 불가능\n",
    "mushrooms['class'] = mushrooms['class'].map({'e':1, 'p':0})\n",
    "#print(mushrooms.head())"
   ]
  },
  {
   "cell_type": "code",
   "execution_count": 3,
   "metadata": {},
   "outputs": [],
   "source": [
    "# cap-shape \n",
    "# bell=b,conical=c,convex=x,flat=f, knobbed=k,sunken=s\n",
    "\n",
    "mushrooms['bell'] = mushrooms['cap-shape'].apply(lambda x: 1 if x == 'b' else 0)\n",
    "mushrooms['conical'] = mushrooms['cap-shape'].apply(lambda x: 1 if x == 'c' else 0)\n",
    "mushrooms['convex'] = mushrooms['cap-shape'].apply(lambda x: 1 if x == 'x' else 0)\n",
    "mushrooms['flat'] = mushrooms['cap-shape'].apply(lambda x: 1 if x == 'f' else 0)\n",
    "mushrooms['knobbed'] = mushrooms['cap-shape'].apply(lambda x: 1 if x == 'k' else 0)\n",
    "mushrooms['sunken'] = mushrooms['cap-shape'].apply(lambda x: 1 if x == 's' else 0)\n",
    "\n",
    "#mushrooms = mushrooms.drop('cap-shape', axis = 1) # data의 label column을 없앰 0이면 row\n",
    "#print(mushrooms.head())"
   ]
  },
  {
   "cell_type": "code",
   "execution_count": 4,
   "metadata": {},
   "outputs": [],
   "source": [
    "# cap-surface\n",
    "# fibrous=f,grooves=g,scaly=y,smooth=s\n",
    "\n",
    "mushrooms['fibrous'] = mushrooms['cap-surface'].apply(lambda x: 1 if x == 'f' else 0)\n",
    "mushrooms['grooves'] = mushrooms['cap-surface'].apply(lambda x: 1 if x == 'g' else 0)\n",
    "mushrooms['scaly'] = mushrooms['cap-surface'].apply(lambda x: 1 if x == 'y' else 0)\n",
    "mushrooms['smooth'] = mushrooms['cap-surface'].apply(lambda x: 1 if x == 's' else 0)\n",
    "\n",
    "#mushrooms = mushrooms.drop('cap-surface', axis = 1)\n",
    "#print(mushrooms.head())"
   ]
  },
  {
   "cell_type": "code",
   "execution_count": 5,
   "metadata": {},
   "outputs": [],
   "source": [
    "# cap-color\n",
    "# brown=n,buff=b,cinnamon=c,gray=g,green=r,pink=p,purple=u,red=e,white=w,yellow=y\n",
    "\n",
    "mushrooms['brown'] = mushrooms['cap-color'].apply(lambda x: 1 if x == 'n' else 0)\n",
    "mushrooms['buff'] = mushrooms['cap-color'].apply(lambda x: 1 if x == 'b' else 0)\n",
    "mushrooms['cinnamon'] = mushrooms['cap-color'].apply(lambda x: 1 if x == 'c' else 0)\n",
    "mushrooms['gray'] = mushrooms['cap-color'].apply(lambda x: 1 if x == 'g' else 0)\n",
    "mushrooms['green'] = mushrooms['cap-color'].apply(lambda x: 1 if x == 'r' else 0)\n",
    "mushrooms['pink'] = mushrooms['cap-color'].apply(lambda x: 1 if x == 'p' else 0)\n",
    "mushrooms['purple'] = mushrooms['cap-color'].apply(lambda x: 1 if x == 'u' else 0)\n",
    "mushrooms['red'] = mushrooms['cap-color'].apply(lambda x: 1 if x == 'e' else 0)\n",
    "mushrooms['white'] = mushrooms['cap-color'].apply(lambda x: 1 if x == 'w' else 0)\n",
    "mushrooms['yellow'] = mushrooms['cap-color'].apply(lambda x: 1 if x == 'y' else 0)\n",
    "\n",
    "#mushrooms = mushrooms.drop('cap-color', axis = 1)\n",
    "#print(mushrooms.head())"
   ]
  },
  {
   "cell_type": "code",
   "execution_count": 6,
   "metadata": {},
   "outputs": [],
   "source": [
    "# Bruises\n",
    "# bruises=t,no=f\n",
    "\n",
    "mushrooms['bruise'] = mushrooms['bruises'].apply(lambda x: 1 if x == 't' else 0)\n",
    "mushrooms['nonbruise'] = mushrooms['bruises'].apply(lambda x: 1 if x == 'f' else 0)\n",
    "\n",
    "#mushrooms = mushrooms.drop('bruises', axis = 1)\n",
    "#print(mushrooms.head())"
   ]
  },
  {
   "cell_type": "code",
   "execution_count": 7,
   "metadata": {},
   "outputs": [],
   "source": [
    "# odor(향)\n",
    "# almond=a,anise=l,creosote=c,fishy=y,foul=f,musty=m,none=n,pungent=p,spicy=s\n",
    "\n",
    "mushrooms['almond'] = mushrooms['cap-color'].apply(lambda x: 1 if x == 'a' else 0)\n",
    "mushrooms['anise'] = mushrooms['cap-color'].apply(lambda x: 1 if x == 'l' else 0)\n",
    "mushrooms['creosote'] = mushrooms['cap-color'].apply(lambda x: 1 if x == 'c' else 0)\n",
    "mushrooms['fishy'] = mushrooms['cap-color'].apply(lambda x: 1 if x == 'y' else 0)\n",
    "mushrooms['foul'] = mushrooms['cap-color'].apply(lambda x: 1 if x == 'f' else 0)\n",
    "mushrooms['musty'] = mushrooms['cap-color'].apply(lambda x: 1 if x == 'm' else 0)\n",
    "mushrooms['none'] = mushrooms['cap-color'].apply(lambda x: 1 if x == 'n' else 0)\n",
    "mushrooms['pungent'] = mushrooms['cap-color'].apply(lambda x: 1 if x == 'p' else 0)\n",
    "mushrooms['spicy'] = mushrooms['cap-color'].apply(lambda x: 1 if x == 's' else 0)\n",
    "\n",
    "#mushrooms = mushrooms.drop('odor', axis = 1)\n",
    "#print(mushrooms.head())"
   ]
  },
  {
   "cell_type": "code",
   "execution_count": 8,
   "metadata": {},
   "outputs": [],
   "source": [
    "# gill-attachment\n",
    "# attached=a, descending=d, free=f, notched=n\n",
    "\n",
    "mushrooms['attached'] = mushrooms['gill-attachment'].apply(lambda x: 1 if x == 'a' else 0)\n",
    "mushrooms['descending'] = mushrooms['gill-attachment'].apply(lambda x: 1 if x == 'd' else 0)\n",
    "mushrooms['free'] = mushrooms['gill-attachment'].apply(lambda x: 1 if x == 'f' else 0)\n",
    "mushrooms['notched'] = mushrooms['gill-attachment'].apply(lambda x: 1 if x == 'n' else 0)\n",
    "\n",
    "#mushrooms = mushrooms.drop('gill-attachment', axis = 1)\n",
    "#print(mushrooms.head(20))"
   ]
  },
  {
   "cell_type": "code",
   "execution_count": 9,
   "metadata": {},
   "outputs": [],
   "source": [
    "# gill-spacing\n",
    "# close=c,crowded=w,distant=d\n",
    "\n",
    "mushrooms['close'] = mushrooms['gill-spacing'].apply(lambda x: 1 if x == 'c' else 0)\n",
    "mushrooms['crowded'] = mushrooms['gill-spacing'].apply(lambda x: 1 if x == 'w' else 0)\n",
    "mushrooms['distant'] = mushrooms['gill-spacing'].apply(lambda x: 1 if x == 'd' else 0)\n",
    "\n",
    "#mushrooms = mushrooms.drop('gill-spacing', axis = 1)\n",
    "#print(mushrooms.head(20))"
   ]
  },
  {
   "cell_type": "code",
   "execution_count": 10,
   "metadata": {},
   "outputs": [],
   "source": [
    "# gill-size\n",
    "# broad=b,narrow=n\n",
    "\n",
    "mushrooms['broad'] = mushrooms['gill-size'].apply(lambda x: 1 if x == 'b' else 0)\n",
    "mushrooms['narrow'] = mushrooms['gill-size'].apply(lambda x: 1 if x == 'n' else 0)\n",
    "\n",
    "#mushrooms = mushrooms.drop('gill-size', axis = 1)\n",
    "#print(mushrooms.head(20))"
   ]
  },
  {
   "cell_type": "code",
   "execution_count": 11,
   "metadata": {},
   "outputs": [],
   "source": [
    "# gill-color\n",
    "# black=k,brown=n,buff=b,chocolate=h,gray=g, green=r,orange=o,pink=p,purple=u,red=e\n",
    "\n",
    "mushrooms['black'] = mushrooms['gill-color'].apply(lambda x: 1 if x == 'k' else 0)\n",
    "mushrooms['brown'] = mushrooms['gill-color'].apply(lambda x: 1 if x == 'n' else 0)\n",
    "mushrooms['g-buff'] = mushrooms['gill-color'].apply(lambda x: 1 if x == 'b' else 0)\n",
    "mushrooms['chocolate'] = mushrooms['gill-color'].apply(lambda x: 1 if x == 'h' else 0)\n",
    "mushrooms['gray'] = mushrooms['gill-color'].apply(lambda x: 1 if x == 'g' else 0)\n",
    "mushrooms['green'] = mushrooms['gill-color'].apply(lambda x: 1 if x == 'r' else 0)\n",
    "mushrooms['orange'] = mushrooms['gill-color'].apply(lambda x: 1 if x == 'o' else 0)\n",
    "mushrooms['pink'] = mushrooms['gill-color'].apply(lambda x: 1 if x == 'p' else 0)\n",
    "mushrooms['purple'] = mushrooms['gill-color'].apply(lambda x: 1 if x == 'u' else 0)\n",
    "mushrooms['red'] = mushrooms['gill-color'].apply(lambda x: 1 if x == 'e' else 0)\n",
    "\n",
    "#mushrooms = mushrooms.drop('gill-color', axis = 1)\n",
    "#print(mushrooms.head(20))"
   ]
  },
  {
   "cell_type": "code",
   "execution_count": 12,
   "metadata": {},
   "outputs": [],
   "source": [
    "# DataSet 준비\n",
    "features = mushrooms[['bell', 'conical', 'convex', 'flat', 'knobbed', 'sunken',\n",
    "                      'fibrous', 'grooves', 'scaly', 'smooth',\n",
    "                      'brown','buff', 'cinnamon', 'gray', 'green', 'pink', 'purple', 'red', 'white', 'yellow',\n",
    "                      'bruise', 'nonbruise',\n",
    "                      'almond','anise','creosote','fishy','foul','musty','none','pungent','spicy',\n",
    "                      'attached', 'descending', 'free', 'notched',\n",
    "                      'close', 'crowded', 'distant',\n",
    "                      'broad', 'narrow',\n",
    "                      'black', 'brown', 'g-buff', 'chocolate', 'gray', 'green', 'orange', 'pink', 'purple', 'red']]\n",
    "eat = mushrooms['class']"
   ]
  },
  {
   "cell_type": "code",
   "execution_count": 13,
   "metadata": {},
   "outputs": [
    {
     "name": "stdout",
     "output_type": "stream",
     "text": [
      "      bell  conical  convex  flat  knobbed  sunken  fibrous  grooves  scaly  \\\n",
      "5650     0        0       0     1        0       0        0        0      1   \n",
      "209      1        0       0     0        0       0        0        0      1   \n",
      "2635     0        0       0     1        0       0        0        0      1   \n",
      "2029     1        0       0     0        0       0        0        0      1   \n",
      "6883     0        0       1     0        0       0        0        0      1   \n",
      "\n",
      "      smooth  ...  black  brown  g-buff  chocolate  gray  green  orange  pink  \\\n",
      "5650       0  ...      0      0       0          0     0      0       0     1   \n",
      "209        0  ...      0      0       0          0     0      0       0     0   \n",
      "2635       0  ...      0      0       0          0     0      0       0     1   \n",
      "2029       0  ...      1      0       0          0     0      0       0     0   \n",
      "6883       0  ...      0      0       1          0     0      0       0     0   \n",
      "\n",
      "      purple  red  \n",
      "5650       0    0  \n",
      "209        0    0  \n",
      "2635       0    0  \n",
      "2029       0    0  \n",
      "6883       0    0  \n",
      "\n",
      "[5 rows x 50 columns]\n",
      "      bell  conical  convex  flat  knobbed  sunken  fibrous  grooves  scaly  \\\n",
      "8090     0        0       0     0        1       0        0        0      0   \n",
      "1841     0        0       0     1        0       0        1        0      0   \n",
      "553      0        0       0     1        0       0        0        0      0   \n",
      "6854     0        0       0     1        0       0        0        0      1   \n",
      "5713     0        0       1     0        0       0        0        0      1   \n",
      "\n",
      "      smooth  ...  black  brown  g-buff  chocolate  gray  green  orange  pink  \\\n",
      "8090       1  ...      0      0       1          0     0      0       0     0   \n",
      "1841       0  ...      0      0       0          0     0      0       0     1   \n",
      "553        1  ...      0      0       0          0     0      0       0     1   \n",
      "6854       0  ...      0      0       1          0     0      0       0     0   \n",
      "5713       0  ...      0      0       1          0     0      0       0     0   \n",
      "\n",
      "      purple  red  \n",
      "8090       0    0  \n",
      "1841       0    0  \n",
      "553        0    0  \n",
      "6854       0    0  \n",
      "5713       0    0  \n",
      "\n",
      "[5 rows x 50 columns]\n",
      "5650    0\n",
      "209     1\n",
      "2635    1\n",
      "2029    1\n",
      "6883    0\n",
      "Name: class, dtype: int64\n",
      "8090    0\n",
      "1841    1\n",
      "553     1\n",
      "6854    0\n",
      "5713    0\n",
      "Name: class, dtype: int64\n"
     ]
    }
   ],
   "source": [
    "from sklearn.model_selection import train_test_split\n",
    "\n",
    "train_features, test_features, train_eat, test_eat = train_test_split(features, eat, train_size=0.7, test_size=0.3)\n",
    "print(train_features.head())\n",
    "print(test_features.head())\n",
    "print(train_eat.head())\n",
    "print(test_eat.head())"
   ]
  },
  {
   "cell_type": "code",
   "execution_count": 14,
   "metadata": {},
   "outputs": [],
   "source": [
    "from sklearn.preprocessing import StandardScaler\n",
    "\n",
    "scaler = StandardScaler()\n",
    "\n",
    "train_features = scaler.fit_transform(train_features)\n",
    "test_features = scaler.transform(test_features)"
   ]
  },
  {
   "cell_type": "code",
   "execution_count": 15,
   "metadata": {},
   "outputs": [
    {
     "name": "stdout",
     "output_type": "stream",
     "text": [
      "LogisticRegression()\n"
     ]
    }
   ],
   "source": [
    "from sklearn.linear_model import LogisticRegression\n",
    "\n",
    "model = LogisticRegression()\n",
    "model.fit(train_features, train_eat)\n",
    "print(model.fit(train_features, train_eat))"
   ]
  },
  {
   "cell_type": "code",
   "execution_count": 16,
   "metadata": {},
   "outputs": [
    {
     "name": "stdout",
     "output_type": "stream",
     "text": [
      "0.9495251494899754\n"
     ]
    }
   ],
   "source": [
    "print(model.score(train_features, train_eat))"
   ]
  },
  {
   "cell_type": "code",
   "execution_count": 17,
   "metadata": {},
   "outputs": [
    {
     "name": "stdout",
     "output_type": "stream",
     "text": [
      "0.948318293683347\n"
     ]
    }
   ],
   "source": [
    "print(model.score(test_features, test_eat))"
   ]
  },
  {
   "cell_type": "code",
   "execution_count": 18,
   "metadata": {},
   "outputs": [
    {
     "name": "stdout",
     "output_type": "stream",
     "text": [
      "[[ 0.28221282 -0.22124958 -0.1372124  -0.21863091  0.23973902  0.69758507\n",
      "   0.36313401 -0.21037954  0.18006534 -0.53494858  0.15076027 -0.40878827\n",
      "   0.01004085 -0.16089346 -0.26349686 -0.1906737   0.25545443  0.4046907\n",
      "  -0.23581731 -0.06971684  0.99323978 -0.99323978  0.          0.\n",
      "   0.01004085 -0.06971684  0.          0.          0.64951745 -0.26680837\n",
      "   0.          0.19829005  0.         -0.19829005  0.         -1.17633067\n",
      "   1.17633067  0.          1.0310395  -1.0310395   0.28740792  0.15076027\n",
      "  -1.23259709 -0.57388767 -0.16089346 -0.26349686  0.42371085 -0.1906737\n",
      "   0.25545443  0.4046907 ]]\n"
     ]
    }
   ],
   "source": [
    "print(model.coef_)"
   ]
  },
  {
   "cell_type": "code",
   "execution_count": 19,
   "metadata": {},
   "outputs": [],
   "source": [
    "#6 cap-shape(bell=b,conical=c,convex=x,flat=f, knobbed=k,sunken=s) \n",
    "#4 cap-surface(fibrous=f,grooves=g,scaly=y,smooth=s) \n",
    "#10 cap-color(brown=n,buff=b,cinnamon=c,gray=g,green=r,pink=p,purple=u,red=e,white=w,yellow=y)\n",
    "#2 Bruises(bruises=t,no=f)\n",
    "#9 odor(almond=a,anise=l,creosote=c,fishy=y,foul=f,musty=m,none=n,pungent=p,spicy=s )\n",
    "#4 gill-attachment(attached=a, descending=d, free=f, notched=n)\n",
    "#3 gill-spacing(close=c,crowded=w,distant=d)\n",
    "#2 gill-size(broad=b,narrow=n)\n",
    "#10 gill-color(black=k,brown=n,buff=b,chocolate=h,gray=g, green=r,orange=o,pink=p,purple=u,red=e)\n",
    "import numpy as np\n",
    "\n",
    "mushmom = np.array([1, 0, 0, 0, 0, 0,\n",
    "                    0, 0, 0, 1,\n",
    "                    1, 0, 0, 0, 0, 0, 0, 0, 0, 0,\n",
    "                    1, 0,\n",
    "                    1, 0, 0, 0, 0, 0, 0, 0, 0,\n",
    "                    1, 0, 0, 0,\n",
    "                    1, 0, 0,\n",
    "                    0, 1,\n",
    "                    0, 1, 0, 0, 0, 0, 0, 0, 0, 0])\n",
    "\n",
    "sample_mushroom = np.array([mushmom])"
   ]
  },
  {
   "cell_type": "code",
   "execution_count": 20,
   "metadata": {},
   "outputs": [],
   "source": [
    "sample_mushroom = scaler.transform(sample_mushroom)"
   ]
  },
  {
   "cell_type": "code",
   "execution_count": 21,
   "metadata": {},
   "outputs": [
    {
     "name": "stdout",
     "output_type": "stream",
     "text": [
      "[1]\n"
     ]
    }
   ],
   "source": [
    "print(model.predict(sample_mushroom))"
   ]
  },
  {
   "cell_type": "code",
   "execution_count": 22,
   "metadata": {},
   "outputs": [
    {
     "name": "stdout",
     "output_type": "stream",
     "text": [
      "[[0.14568479 0.85431521]]\n"
     ]
    }
   ],
   "source": [
    "# y의 값이 1이 될 확률 정도\n",
    "print(model.predict_proba(sample_mushroom))"
   ]
  },
  {
   "cell_type": "code",
   "execution_count": null,
   "metadata": {},
   "outputs": [],
   "source": []
  }
 ],
 "metadata": {
  "kernelspec": {
   "display_name": "Python 3",
   "language": "python",
   "name": "python3"
  },
  "language_info": {
   "codemirror_mode": {
    "name": "ipython",
    "version": 3
   },
   "file_extension": ".py",
   "mimetype": "text/x-python",
   "name": "python",
   "nbconvert_exporter": "python",
   "pygments_lexer": "ipython3",
   "version": "3.7.8"
  }
 },
 "nbformat": 4,
 "nbformat_minor": 4
}
