{
 "cells": [
  {
   "cell_type": "code",
   "execution_count": 1,
   "metadata": {},
   "outputs": [],
   "source": [
    "import pandas as pd\n",
    "\n",
    "mushrooms = pd.read_csv(\"mushroom.csv\")\n",
    "#print(mushrooms.shape)\n",
    "#print(mushrooms.head())"
   ]
  },
  {
   "cell_type": "code",
   "execution_count": 2,
   "metadata": {},
   "outputs": [],
   "source": [
    "# edible=e, poisonous=p\n",
    "# class의 e = 식용가능, p = 식용 불가능\n",
    "mushrooms['class'] = mushrooms['class'].map({'e':1, 'p':0})\n",
    "#print(mushrooms.head())"
   ]
  },
  {
   "cell_type": "code",
   "execution_count": 3,
   "metadata": {},
   "outputs": [
    {
     "name": "stdout",
     "output_type": "stream",
     "text": [
      "   class cap-shape cap-surface cap-color bruises odor gill-attachment  \\\n",
      "0      0         x           s         n       t    p               f   \n",
      "1      1         x           s         y       t    a               f   \n",
      "2      1         b           s         w       t    l               f   \n",
      "3      0         x           y         w       t    p               f   \n",
      "4      1         x           s         g       f    n               f   \n",
      "\n",
      "  gill-spacing gill-size gill-color  bell  conical  convex  flat  knobbed  \\\n",
      "0            c         n          k     0        0       1     0        0   \n",
      "1            c         b          k     0        0       1     0        0   \n",
      "2            c         b          n     1        0       0     0        0   \n",
      "3            c         n          n     0        0       1     0        0   \n",
      "4            w         b          k     0        0       1     0        0   \n",
      "\n",
      "   sunken  \n",
      "0       0  \n",
      "1       0  \n",
      "2       0  \n",
      "3       0  \n",
      "4       0  \n"
     ]
    }
   ],
   "source": [
    "# cap-shape \n",
    "# bell=b,conical=c,convex=x,flat=f, knobbed=k,sunken=s\n",
    "\n",
    "mushrooms['bell'] = mushrooms['cap-shape'].apply(lambda x: 1 if x == 'b' else 0)\n",
    "mushrooms['conical'] = mushrooms['cap-shape'].apply(lambda x: 1 if x == 'c' else 0)\n",
    "mushrooms['convex'] = mushrooms['cap-shape'].apply(lambda x: 1 if x == 'x' else 0)\n",
    "mushrooms['flat'] = mushrooms['cap-shape'].apply(lambda x: 1 if x == 'f' else 0)\n",
    "mushrooms['knobbed'] = mushrooms['cap-shape'].apply(lambda x: 1 if x == 'k' else 0)\n",
    "mushrooms['sunken'] = mushrooms['cap-shape'].apply(lambda x: 1 if x == 's' else 0)\n",
    "\n",
    "#mushrooms = mushrooms.drop('cap-shape', axis = 1) # data의 label column을 없앰 0이면 row\n",
    "print(mushrooms.head())"
   ]
  },
  {
   "cell_type": "code",
   "execution_count": 4,
   "metadata": {},
   "outputs": [
    {
     "name": "stdout",
     "output_type": "stream",
     "text": [
      "   class cap-shape cap-surface cap-color bruises odor gill-attachment  \\\n",
      "0      0         x           s         n       t    p               f   \n",
      "1      1         x           s         y       t    a               f   \n",
      "2      1         b           s         w       t    l               f   \n",
      "3      0         x           y         w       t    p               f   \n",
      "4      1         x           s         g       f    n               f   \n",
      "\n",
      "  gill-spacing gill-size gill-color  bell  conical  convex  flat  knobbed  \\\n",
      "0            c         n          k     0        0       1     0        0   \n",
      "1            c         b          k     0        0       1     0        0   \n",
      "2            c         b          n     1        0       0     0        0   \n",
      "3            c         n          n     0        0       1     0        0   \n",
      "4            w         b          k     0        0       1     0        0   \n",
      "\n",
      "   sunken  fibrous  grooves  scaly  smooth  \n",
      "0       0        0        0      0       1  \n",
      "1       0        0        0      0       1  \n",
      "2       0        0        0      0       1  \n",
      "3       0        0        0      1       0  \n",
      "4       0        0        0      0       1  \n"
     ]
    }
   ],
   "source": [
    "# cap-surface\n",
    "# fibrous=f,grooves=g,scaly=y,smooth=s\n",
    "\n",
    "mushrooms['fibrous'] = mushrooms['cap-surface'].apply(lambda x: 1 if x == 'f' else 0)\n",
    "mushrooms['grooves'] = mushrooms['cap-surface'].apply(lambda x: 1 if x == 'g' else 0)\n",
    "mushrooms['scaly'] = mushrooms['cap-surface'].apply(lambda x: 1 if x == 'y' else 0)\n",
    "mushrooms['smooth'] = mushrooms['cap-surface'].apply(lambda x: 1 if x == 's' else 0)\n",
    "\n",
    "#mushrooms = mushrooms.drop('cap-surface', axis = 1)\n",
    "print(mushrooms.head())"
   ]
  },
  {
   "cell_type": "code",
   "execution_count": 5,
   "metadata": {},
   "outputs": [
    {
     "name": "stdout",
     "output_type": "stream",
     "text": [
      "   class cap-shape cap-surface cap-color bruises odor gill-attachment  \\\n",
      "0      0         x           s         n       t    p               f   \n",
      "1      1         x           s         y       t    a               f   \n",
      "2      1         b           s         w       t    l               f   \n",
      "3      0         x           y         w       t    p               f   \n",
      "4      1         x           s         g       f    n               f   \n",
      "\n",
      "  gill-spacing gill-size gill-color  ...  brown  buff  cinnamon  gray  green  \\\n",
      "0            c         n          k  ...      1     0         0     0      0   \n",
      "1            c         b          k  ...      0     0         0     0      0   \n",
      "2            c         b          n  ...      0     0         0     0      0   \n",
      "3            c         n          n  ...      0     0         0     0      0   \n",
      "4            w         b          k  ...      0     0         0     1      0   \n",
      "\n",
      "   pink  purple  red  white  yellow  \n",
      "0     0       0    0      0       0  \n",
      "1     0       0    0      0       1  \n",
      "2     0       0    0      1       0  \n",
      "3     0       0    0      1       0  \n",
      "4     0       0    0      0       0  \n",
      "\n",
      "[5 rows x 30 columns]\n"
     ]
    }
   ],
   "source": [
    "# cap-color\n",
    "# brown=n,buff=b,cinnamon=c,gray=g,green=r,pink=p,purple=u,red=e,white=w,yellow=y\n",
    "\n",
    "mushrooms['brown'] = mushrooms['cap-color'].apply(lambda x: 1 if x == 'n' else 0)\n",
    "mushrooms['buff'] = mushrooms['cap-color'].apply(lambda x: 1 if x == 'b' else 0)\n",
    "mushrooms['cinnamon'] = mushrooms['cap-color'].apply(lambda x: 1 if x == 'c' else 0)\n",
    "mushrooms['gray'] = mushrooms['cap-color'].apply(lambda x: 1 if x == 'g' else 0)\n",
    "mushrooms['green'] = mushrooms['cap-color'].apply(lambda x: 1 if x == 'r' else 0)\n",
    "mushrooms['pink'] = mushrooms['cap-color'].apply(lambda x: 1 if x == 'p' else 0)\n",
    "mushrooms['purple'] = mushrooms['cap-color'].apply(lambda x: 1 if x == 'u' else 0)\n",
    "mushrooms['red'] = mushrooms['cap-color'].apply(lambda x: 1 if x == 'e' else 0)\n",
    "mushrooms['white'] = mushrooms['cap-color'].apply(lambda x: 1 if x == 'w' else 0)\n",
    "mushrooms['yellow'] = mushrooms['cap-color'].apply(lambda x: 1 if x == 'y' else 0)\n",
    "\n",
    "#mushrooms = mushrooms.drop('cap-color', axis = 1)\n",
    "print(mushrooms.head())"
   ]
  },
  {
   "cell_type": "code",
   "execution_count": 6,
   "metadata": {},
   "outputs": [
    {
     "name": "stdout",
     "output_type": "stream",
     "text": [
      "   class cap-shape cap-surface cap-color bruises odor gill-attachment  \\\n",
      "0      0         x           s         n       t    p               f   \n",
      "1      1         x           s         y       t    a               f   \n",
      "2      1         b           s         w       t    l               f   \n",
      "3      0         x           y         w       t    p               f   \n",
      "4      1         x           s         g       f    n               f   \n",
      "\n",
      "  gill-spacing gill-size gill-color  ...  cinnamon  gray  green  pink  purple  \\\n",
      "0            c         n          k  ...         0     0      0     0       0   \n",
      "1            c         b          k  ...         0     0      0     0       0   \n",
      "2            c         b          n  ...         0     0      0     0       0   \n",
      "3            c         n          n  ...         0     0      0     0       0   \n",
      "4            w         b          k  ...         0     1      0     0       0   \n",
      "\n",
      "   red  white  yellow  bruise  nonbruise  \n",
      "0    0      0       0       1          0  \n",
      "1    0      0       1       1          0  \n",
      "2    0      1       0       1          0  \n",
      "3    0      1       0       1          0  \n",
      "4    0      0       0       0          1  \n",
      "\n",
      "[5 rows x 32 columns]\n"
     ]
    }
   ],
   "source": [
    "# Bruises\n",
    "# bruises=t,no=f\n",
    "\n",
    "mushrooms['bruise'] = mushrooms['bruises'].apply(lambda x: 1 if x == 't' else 0)\n",
    "mushrooms['nonbruise'] = mushrooms['bruises'].apply(lambda x: 1 if x == 'f' else 0)\n",
    "\n",
    "#mushrooms = mushrooms.drop('bruises', axis = 1)\n",
    "print(mushrooms.head())"
   ]
  },
  {
   "cell_type": "code",
   "execution_count": 7,
   "metadata": {},
   "outputs": [],
   "source": [
    "# odor\n",
    "# almond=a,anise=l,creosote=c,fishy=y,foul=f,musty=m,none=n,pungent=p,spicy=s \n",
    "\n",
    "#mushrooms['almond'] = mushrooms['odor'].apply(lambda x: 1 if x == 'a' else 0)\n",
    "#mushrooms['anise'] = mushrooms['odor'].apply(lambda x: 1 if x == 'l' else 0)\n",
    "#mushrooms['creosote'] = mushrooms['odor'].apply(lambda x: 1 if x == 'c' else 0)\n",
    "#mushrooms['fishy'] = mushrooms['odor'].apply(lambda x: 1 if x == 'y' else 0)\n",
    "#mushrooms['foul'] = mushrooms['odor'].apply(lambda x: 1 if x == 'f' else 0)\n",
    "#mushrooms['musty'] = mushrooms['odor'].apply(lambda x: 1 if x == 'm' else 0)\n",
    "#mushrooms['none'] = mushrooms['odor'].apply(lambda x: 1 if x == 'n' else 0)\n",
    "#mushrooms['pungent'] = mushrooms['odor'].apply(lambda x: 1 if x == 'p' else 0)\n",
    "#mushrooms['spicy'] = mushrooms['odor'].apply(lambda x: 1 if x == 's' else 0)\n",
    "\n",
    "#mushrooms = mushrooms.drop('odor', axis = 1)\n",
    "#print(mushrooms.head(20))"
   ]
  },
  {
   "cell_type": "code",
   "execution_count": 8,
   "metadata": {},
   "outputs": [
    {
     "name": "stdout",
     "output_type": "stream",
     "text": [
      "    class cap-shape cap-surface cap-color bruises odor gill-attachment  \\\n",
      "0       0         x           s         n       t    p               f   \n",
      "1       1         x           s         y       t    a               f   \n",
      "2       1         b           s         w       t    l               f   \n",
      "3       0         x           y         w       t    p               f   \n",
      "4       1         x           s         g       f    n               f   \n",
      "5       1         x           y         y       t    a               f   \n",
      "6       1         b           s         w       t    a               f   \n",
      "7       1         b           y         w       t    l               f   \n",
      "8       0         x           y         w       t    p               f   \n",
      "9       1         b           s         y       t    a               f   \n",
      "10      1         x           y         y       t    l               f   \n",
      "11      1         x           y         y       t    a               f   \n",
      "12      1         b           s         y       t    a               f   \n",
      "13      0         x           y         w       t    p               f   \n",
      "14      1         x           f         n       f    n               f   \n",
      "15      1         s           f         g       f    n               f   \n",
      "16      1         f           f         w       f    n               f   \n",
      "17      0         x           s         n       t    p               f   \n",
      "18      0         x           y         w       t    p               f   \n",
      "19      0         x           s         n       t    p               f   \n",
      "\n",
      "   gill-spacing gill-size gill-color  ...  purple  red  white  yellow  bruise  \\\n",
      "0             c         n          k  ...       0    0      0       0       1   \n",
      "1             c         b          k  ...       0    0      0       1       1   \n",
      "2             c         b          n  ...       0    0      1       0       1   \n",
      "3             c         n          n  ...       0    0      1       0       1   \n",
      "4             w         b          k  ...       0    0      0       0       0   \n",
      "5             c         b          n  ...       0    0      0       1       1   \n",
      "6             c         b          g  ...       0    0      1       0       1   \n",
      "7             c         b          n  ...       0    0      1       0       1   \n",
      "8             c         n          p  ...       0    0      1       0       1   \n",
      "9             c         b          g  ...       0    0      0       1       1   \n",
      "10            c         b          g  ...       0    0      0       1       1   \n",
      "11            c         b          n  ...       0    0      0       1       1   \n",
      "12            c         b          w  ...       0    0      0       1       1   \n",
      "13            c         n          k  ...       0    0      1       0       1   \n",
      "14            w         b          n  ...       0    0      0       0       0   \n",
      "15            c         n          k  ...       0    0      0       0       0   \n",
      "16            w         b          k  ...       0    0      1       0       0   \n",
      "17            c         n          n  ...       0    0      0       0       1   \n",
      "18            c         n          n  ...       0    0      1       0       1   \n",
      "19            c         n          k  ...       0    0      0       0       1   \n",
      "\n",
      "    nonbruise  attached  descending  free  notched  \n",
      "0           0         0           0     1        0  \n",
      "1           0         0           0     1        0  \n",
      "2           0         0           0     1        0  \n",
      "3           0         0           0     1        0  \n",
      "4           1         0           0     1        0  \n",
      "5           0         0           0     1        0  \n",
      "6           0         0           0     1        0  \n",
      "7           0         0           0     1        0  \n",
      "8           0         0           0     1        0  \n",
      "9           0         0           0     1        0  \n",
      "10          0         0           0     1        0  \n",
      "11          0         0           0     1        0  \n",
      "12          0         0           0     1        0  \n",
      "13          0         0           0     1        0  \n",
      "14          1         0           0     1        0  \n",
      "15          1         0           0     1        0  \n",
      "16          1         0           0     1        0  \n",
      "17          0         0           0     1        0  \n",
      "18          0         0           0     1        0  \n",
      "19          0         0           0     1        0  \n",
      "\n",
      "[20 rows x 36 columns]\n"
     ]
    }
   ],
   "source": [
    "# gill-attachment\n",
    "# attached=a, descending=d, free=f, notched=n\n",
    "\n",
    "mushrooms['attached'] = mushrooms['gill-attachment'].apply(lambda x: 1 if x == 'a' else 0)\n",
    "mushrooms['descending'] = mushrooms['gill-attachment'].apply(lambda x: 1 if x == 'd' else 0)\n",
    "mushrooms['free'] = mushrooms['gill-attachment'].apply(lambda x: 1 if x == 'f' else 0)\n",
    "mushrooms['notched'] = mushrooms['gill-attachment'].apply(lambda x: 1 if x == 'n' else 0)\n",
    "\n",
    "#mushrooms = mushrooms.drop('gill-attachment', axis = 1)\n",
    "print(mushrooms.head(20))"
   ]
  },
  {
   "cell_type": "code",
   "execution_count": 9,
   "metadata": {},
   "outputs": [],
   "source": [
    "# DataSet 준비\n",
    "features = mushrooms[['bell', 'conical', 'convex', 'flat', 'knobbed', 'sunken',\n",
    "                      'fibrous', 'grooves', 'scaly', 'smooth',\n",
    "                      'brown','buff', 'cinnamon', 'gray', 'green', 'pink', 'purple', 'red', 'white', 'yellow',\n",
    "                      'bruise', 'nonbruise',\n",
    "                      'attached', 'descending', 'free', 'notched']]\n",
    "eat = mushrooms['class']"
   ]
  },
  {
   "cell_type": "code",
   "execution_count": 10,
   "metadata": {},
   "outputs": [],
   "source": [
    "from sklearn.model_selection import train_test_split\n",
    "\n",
    "train_features, test_features, train_eat, test_eat = train_test_split(features, eat, train_size=0.7, test_size=0.3)\n",
    "#print(train_features.head())\n",
    "#print(test_features.head())\n",
    "#print(train_eat.head())\n",
    "#print(test_eat.head())"
   ]
  },
  {
   "cell_type": "code",
   "execution_count": 11,
   "metadata": {},
   "outputs": [],
   "source": [
    "from sklearn.preprocessing import StandardScaler\n",
    "\n",
    "scaler = StandardScaler()\n",
    "\n",
    "train_features = scaler.fit_transform(train_features)\n",
    "test_features = scaler.transform(test_features)"
   ]
  },
  {
   "cell_type": "code",
   "execution_count": 12,
   "metadata": {},
   "outputs": [
    {
     "name": "stdout",
     "output_type": "stream",
     "text": [
      "LogisticRegression()\n"
     ]
    }
   ],
   "source": [
    "from sklearn.linear_model import LogisticRegression\n",
    "\n",
    "model = LogisticRegression()\n",
    "model.fit(train_features, train_eat)\n",
    "print(model.fit(train_features, train_eat))"
   ]
  },
  {
   "cell_type": "code",
   "execution_count": 13,
   "metadata": {},
   "outputs": [
    {
     "name": "stdout",
     "output_type": "stream",
     "text": [
      "0.8163911361238129\n"
     ]
    }
   ],
   "source": [
    "print(model.score(train_features, train_eat))"
   ]
  },
  {
   "cell_type": "code",
   "execution_count": 14,
   "metadata": {},
   "outputs": [
    {
     "name": "stdout",
     "output_type": "stream",
     "text": [
      "0.8330598851517638\n"
     ]
    }
   ],
   "source": [
    "print(model.score(test_features, test_eat))"
   ]
  },
  {
   "cell_type": "code",
   "execution_count": 15,
   "metadata": {},
   "outputs": [
    {
     "name": "stdout",
     "output_type": "stream",
     "text": [
      "[[ 0.41119539 -0.09857924 -0.04475989 -0.15788311 -0.06064986  0.42372574\n",
      "   0.46078875 -0.18597276 -0.28153421 -0.14451495  0.17077613 -0.33886295\n",
      "   0.07248307  0.07737949  0.39892487 -0.13201204  0.36856751 -0.08722937\n",
      "   0.14522109 -0.2872595   0.74483456 -0.74483456  0.26668857  0.\n",
      "  -0.26668857  0.        ]]\n"
     ]
    }
   ],
   "source": [
    "print(model.coef_)"
   ]
  },
  {
   "cell_type": "code",
   "execution_count": 16,
   "metadata": {},
   "outputs": [],
   "source": [
    "# cap-shape(bell=b,conical=c,convex=x,flat=f, knobbed=k,sunken=s)\n",
    "# cap-surface(fibrous=f,grooves=g,scaly=y,smooth=s)\n",
    "# cap-color(brown=n,buff=b,cinnamon=c,gray=g,green=r,pink=p,purple=u,red=e,white=w,yellow=y)\n",
    "# Bruises(bruises=t,no=f)\n",
    "# gill-attachment(attached=a, descending=d, free=f, notched=n)\n",
    "import numpy as np\n",
    "\n",
    "mushmom = np.array([1, 0, 0, 0, 0, 0,\n",
    "                    0, 0, 0, 1,\n",
    "                    1, 0, 0, 0, 0, 0, 0, 0, 0, 0,\n",
    "                    1, 0,\n",
    "                    0, 0, 1, 0])\n",
    "\n",
    "sample_mushroom = np.array([mushmom])"
   ]
  },
  {
   "cell_type": "code",
   "execution_count": 17,
   "metadata": {},
   "outputs": [],
   "source": [
    "sample_mushroom = scaler.transform(sample_mushroom)"
   ]
  },
  {
   "cell_type": "code",
   "execution_count": 18,
   "metadata": {},
   "outputs": [
    {
     "name": "stdout",
     "output_type": "stream",
     "text": [
      "[1]\n"
     ]
    }
   ],
   "source": [
    "print(model.predict(sample_mushroom))"
   ]
  },
  {
   "cell_type": "code",
   "execution_count": 19,
   "metadata": {},
   "outputs": [
    {
     "name": "stdout",
     "output_type": "stream",
     "text": [
      "[[0.0205014 0.9794986]]\n"
     ]
    }
   ],
   "source": [
    "# y의 값이 1이 될 확률이 88% 정도\n",
    "print(model.predict_proba(sample_mushroom))"
   ]
  },
  {
   "cell_type": "code",
   "execution_count": null,
   "metadata": {},
   "outputs": [],
   "source": []
  }
 ],
 "metadata": {
  "kernelspec": {
   "display_name": "Python 3",
   "language": "python",
   "name": "python3"
  },
  "language_info": {
   "codemirror_mode": {
    "name": "ipython",
    "version": 3
   },
   "file_extension": ".py",
   "mimetype": "text/x-python",
   "name": "python",
   "nbconvert_exporter": "python",
   "pygments_lexer": "ipython3",
   "version": "3.7.8"
  }
 },
 "nbformat": 4,
 "nbformat_minor": 4
}
