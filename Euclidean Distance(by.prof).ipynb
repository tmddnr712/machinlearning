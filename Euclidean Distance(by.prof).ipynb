{
 "cells": [
  {
   "cell_type": "code",
   "execution_count": null,
   "metadata": {},
   "outputs": [],
   "source": [
    "import pandas as pd\n",
    "import numpy as np\n",
    "\n",
    "data = pd.read_csv('MNIST_100.csv')\n",
    "y = data.iloc[:, 0]\n",
    "#X = data.rop('label', axis = 1)"
   ]
  },
  {
   "cell_type": "code",
   "execution_count": null,
   "metadata": {},
   "outputs": [],
   "source": [
    "#ver.1\n",
    "X = data.drop('label', axis = 1) # data의 label column을 없앰 0이면 row\n",
    "\n",
    "i = 1\n",
    "j = 2\n",
    "\n",
    "d = 0\n",
    "\n",
    "for k in range(len(X.iloc[i,])):\n",
    "    d = d + (X.iloc[i, k] - X.iloc[j, k]) ** 2\n",
    "d = d ** 0.5\n",
    "d"
   ]
  },
  {
   "cell_type": "code",
   "execution_count": null,
   "metadata": {},
   "outputs": [],
   "source": [
    "#ver.2\n",
    "X = data.drop('label', axis = 1) # data의 label column을 없앰 0이면 row\n",
    "\n",
    "dist = np.zeros([10, 10])\n",
    "\n",
    "for i in range(10):\n",
    "    for j in range(10):\n",
    "        for k in range(len(X.iloc[i,])):\n",
    "            dist[i, j] = dist[i,j] + (X.iloc[i, k] - X.iloc[j, k]) ** 2\n",
    "        dist[i, j] = dist[i, j] ** 0.5\n",
    "        \n",
    "pd.DataFrame(dist)"
   ]
  },
  {
   "cell_type": "code",
   "execution_count": null,
   "metadata": {},
   "outputs": [],
   "source": [
    "#ver.3\n",
    "test_idx = 300\n",
    "dist = np.zeros(len(X))\n",
    "\n",
    "for i in range(len(X)):\n",
    "    if i != test_idx:\n",
    "        for k in range(len(X.iloc[test_idx, :])):\n",
    "            dist[i] = dist[i] + (X.iloc[test_idx, k] - X.iloc[i, k]) ** 2\n",
    "        dist[i] = dist[i] ** 0.5\n",
    "        \n",
    "pd.DataFrame(dist)"
   ]
  },
  {
   "cell_type": "code",
   "execution_count": null,
   "metadata": {},
   "outputs": [],
   "source": [
    "np.sort(dist)\n",
    "y[np.argsort(dist)[1:11]]"
   ]
  },
  {
   "cell_type": "code",
   "execution_count": null,
   "metadata": {},
   "outputs": [],
   "source": [
    "#np.sqrt(np.sum(((X.iloc[0, :] - X.iloc[1, :]) **2)))\n",
    "#np.sqrt(np.sum((np.tile(X.iloc[0, :], (9, 1) - X.iloce[1:10, :])**2, axis = 1)))"
   ]
  }
 ],
 "metadata": {
  "kernelspec": {
   "display_name": "Python 3",
   "language": "python",
   "name": "python3"
  },
  "language_info": {
   "codemirror_mode": {
    "name": "ipython",
    "version": 3
   },
   "file_extension": ".py",
   "mimetype": "text/x-python",
   "name": "python",
   "nbconvert_exporter": "python",
   "pygments_lexer": "ipython3",
   "version": "3.7.8"
  }
 },
 "nbformat": 4,
 "nbformat_minor": 4
}
